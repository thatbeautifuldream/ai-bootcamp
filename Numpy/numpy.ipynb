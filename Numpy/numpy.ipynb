{
 "cells": [
  {
   "cell_type": "markdown",
   "id": "02479c55-2dfb-4ec9-a58a-7e46bdada1c9",
   "metadata": {},
   "source": [
    "## EXERCISE"
   ]
  },
  {
   "cell_type": "markdown",
   "id": "3683a442-89c4-415d-a02c-2c0f3a20a0f3",
   "metadata": {},
   "source": [
    "## Q1. \n",
    "The amount of energy required to increase the temperature of one gram of a material by one degree Celsius is the material’s specific heat capacity, C. The total amount of energy, q, required to raise m grams of a material by ΔT degrees Celsius can be computed using the formula:\n",
    "\n",
    "q = mCΔT\n",
    "\n",
    "Write a program that reads the mass of some water and the temperature change from the user. Your program should display the total amount of energy that must be added or removed to achieve the desired temperature change."
   ]
  },
  {
   "cell_type": "code",
   "execution_count": 14,
   "id": "72cb9967-ccd7-4376-b131-31498fa0a39a",
   "metadata": {},
   "outputs": [
    {
     "name": "stdin",
     "output_type": "stream",
     "text": [
      "Enter the value for mass of water:  1\n",
      "Enter the value for change in temprature:  2\n",
      "Enter the value for material’s specific heat capacity, C:  3\n"
     ]
    }
   ],
   "source": [
    "massOfWater = float(input(\"Enter the value for mass of water: \"))\n",
    "tempratureChange = float(input(\"Enter the value for change in temprature: \"))\n",
    "specificHeatCapacity = float(input(\"Enter the value for material’s specific heat capacity, C: \"))"
   ]
  },
  {
   "cell_type": "code",
   "execution_count": 15,
   "id": "cb95acc5-4294-4788-acea-f760e645c1ae",
   "metadata": {},
   "outputs": [
    {
     "name": "stdout",
     "output_type": "stream",
     "text": [
      "Total amount of energy that must be added or removed to achieve the desired temperature change : 6.0\n"
     ]
    }
   ],
   "source": [
    "q = massOfWater * tempratureChange *specificHeatCapacity\n",
    "print(\"Total amount of energy that must be added or removed to achieve the desired temperature change : \"+str(q))"
   ]
  },
  {
   "cell_type": "markdown",
   "id": "6ee7ab4e-05bb-49c8-8833-9d9395068363",
   "metadata": {},
   "source": [
    "## Q2.\n",
    "Develop a program that begins by reading a number of seconds from the user. Then your program should display the equivalent amount of time in the form D:HH:MM:SS, where D, HH,MM,and SS represent days, hours, minutes and seconds respectively. The hours, minutes and seconds should all be formatted so that they occupy exactly two digits. Use your research skills determine what additional character needs to be included in the format specifier so that leading zeros are used instead of leading spaces when a number is formatted to a particular width."
   ]
  },
  {
   "cell_type": "code",
   "execution_count": 16,
   "id": "e35c8f73-44b1-404c-b0a7-306f55421bcd",
   "metadata": {},
   "outputs": [
    {
     "name": "stdin",
     "output_type": "stream",
     "text": [
      "Enter number of seconds:  332233\n"
     ]
    },
    {
     "name": "stdout",
     "output_type": "stream",
     "text": [
      "The duration is:  3:20:17:13\n"
     ]
    }
   ],
   "source": [
    "#Define the constants\n",
    "SECONDS_PER_MINUTE  = 60\n",
    "SECONDS_PER_HOUR    = 3600\n",
    "SECONDS_PER_DAY     = 86400\n",
    " \n",
    "#Read the inputs from user\n",
    "seconds = int(input(\"Enter number of seconds: \"))\n",
    " \n",
    "#Calculate the days, hours, minutes and seconds\n",
    "days = seconds / SECONDS_PER_DAY\n",
    "seconds = seconds % SECONDS_PER_DAY\n",
    " \n",
    "hours = seconds / SECONDS_PER_HOUR\n",
    "seconds = seconds % SECONDS_PER_HOUR\n",
    " \n",
    "minutes = seconds / SECONDS_PER_MINUTE\n",
    "seconds = seconds % SECONDS_PER_MINUTE\n",
    " \n",
    "#Display the result\n",
    "print(\"The duration is: \",\"%d:%02d:%02d:%02d\"%(days,hours,minutes,seconds))"
   ]
  },
  {
   "cell_type": "markdown",
   "id": "3eb6d506-6fd0-4c44-ae12-078020f13291",
   "metadata": {},
   "source": [
    "## Q3.\n",
    "When the wind blows in cold weather, the air feels even colder than it actually is because the movement of the air increases the rate of cooling for warm objects, like people. This effect is known as wind chill.\n",
    "In 2001, Canada, the United Kingdom and the United States adopted the following formula for computing the wind chill index. Within the formula Ta is the air temperature in degrees Celsius and V is the wind speed in kilometers per hour. A similar formula with different constant values can be used for temperatures in degrees Fahrenheit and wind speeds in miles per hour.\n",
    "WCI = 13.12 + 0.6215Ta − 11.37V0.16 + 0.3965TaV0.16\n",
    "Write a program that begins by reading the air temperature and wind speed from the user. Once these values have been read your program should display the wind chill index rounded to the closest integer."
   ]
  },
  {
   "cell_type": "code",
   "execution_count": null,
   "id": "af0c45a2-0c59-43fc-99ee-cb71aa691533",
   "metadata": {},
   "outputs": [],
   "source": []
  }
 ],
 "metadata": {
  "kernelspec": {
   "display_name": "Python 3 (ipykernel)",
   "language": "python",
   "name": "python3"
  },
  "language_info": {
   "codemirror_mode": {
    "name": "ipython",
    "version": 3
   },
   "file_extension": ".py",
   "mimetype": "text/x-python",
   "name": "python",
   "nbconvert_exporter": "python",
   "pygments_lexer": "ipython3",
   "version": "3.9.6"
  }
 },
 "nbformat": 4,
 "nbformat_minor": 5
}
